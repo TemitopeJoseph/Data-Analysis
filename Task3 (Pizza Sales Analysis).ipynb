{
 "cells": [
  {
   "cell_type": "markdown",
   "id": "3930778e-0626-4d60-b5db-21e61d27d74d",
   "metadata": {
    "jp-MarkdownHeadingCollapsed": true
   },
   "source": [
    "## Pizza Sales Analysis\n",
    "**Recommended Analysis**\n",
    "\n",
    "1) What is the total revenue/sales?\n",
    "2) Find the total quantity sold.\n",
    "3) Find the total orders.\n",
    "4) How many pizza types do they sell?\n",
    "5) Find the average price of the pizzas.\n",
    "6) What are the peak hours of sales?\n",
    "7) Find the total sales made on each day of the week. Which day of the week is when sales are made the most?\n",
    "8) Find the top 5 bestselling pizzas.\n",
    "9) Find the sales made in each month. Any trend noticeable?\n",
    "10) Are there pizza types that are not doing well on the menu?"
   ]
  },
  {
   "cell_type": "markdown",
   "id": "254303be-0a23-42d5-adbb-716abbdaba39",
   "metadata": {},
   "source": [
    "## Import the Dataset"
   ]
  },
  {
   "cell_type": "code",
   "execution_count": 115,
   "id": "90c14c37-004a-472c-bf8a-707551f14f97",
   "metadata": {},
   "outputs": [],
   "source": [
    "# load the four CSV files\n",
    "order_details = pd.read_csv(\"C:/Users/DELL/Desktop/WeddevPrac/Pizza+Place+Sales/pizza_sales/order_details.csv\")\n",
    "orders = pd.read_csv(\"C:/Users/DELL/Desktop/WeddevPrac/Pizza+Place+Sales/pizza_sales/orders.csv\")\n",
    "pizza_types = pd.read_csv(\"C:/Users/DELL/Desktop/WeddevPrac/Pizza+Place+Sales/pizza_sales/pizza_types.csv\")\n",
    "pizzas = pd.read_csv(\"C:/Users/DELL/Desktop/WeddevPrac/Pizza+Place+Sales/pizza_sales/pizzas.csv\")"
   ]
  },
  {
   "cell_type": "markdown",
   "id": "733edac4-4fd8-49b4-970d-b185e141b27c",
   "metadata": {},
   "source": [
    "## import libraries and combine the dataset "
   ]
  },
  {
   "cell_type": "code",
   "execution_count": 140,
   "id": "93c32f98-117c-4166-a185-c87cde6e2956",
   "metadata": {},
   "outputs": [],
   "source": [
    "# load the needed libraries\n",
    "import numpy as np\n",
    "import pandas as pd\n",
    "import seaborn as sns\n",
    "import matplotlib.pyplot as plt\n",
    "import warnings\n",
    "warnings.filterwarnings(\"ignore\")"
   ]
  },
  {
   "cell_type": "markdown",
   "id": "300c1bf1-1ce9-4a9b-84b0-7614b904fdf7",
   "metadata": {},
   "source": [
    "## merge the 4 dataset as one"
   ]
  },
  {
   "cell_type": "code",
   "execution_count": 118,
   "id": "41170a22-ee82-458f-ab39-bf1879241316",
   "metadata": {},
   "outputs": [
    {
     "data": {
      "text/html": [
       "<div>\n",
       "<style scoped>\n",
       "    .dataframe tbody tr th:only-of-type {\n",
       "        vertical-align: middle;\n",
       "    }\n",
       "\n",
       "    .dataframe tbody tr th {\n",
       "        vertical-align: top;\n",
       "    }\n",
       "\n",
       "    .dataframe thead th {\n",
       "        text-align: right;\n",
       "    }\n",
       "</style>\n",
       "<table border=\"1\" class=\"dataframe\">\n",
       "  <thead>\n",
       "    <tr style=\"text-align: right;\">\n",
       "      <th></th>\n",
       "      <th>pizza_type_id</th>\n",
       "      <th>name</th>\n",
       "      <th>category</th>\n",
       "      <th>ingredients</th>\n",
       "      <th>pizza_id</th>\n",
       "      <th>size</th>\n",
       "      <th>price</th>\n",
       "      <th>order_details_id</th>\n",
       "      <th>order_id</th>\n",
       "      <th>quantity</th>\n",
       "      <th>date</th>\n",
       "      <th>time</th>\n",
       "    </tr>\n",
       "  </thead>\n",
       "  <tbody>\n",
       "    <tr>\n",
       "      <th>0</th>\n",
       "      <td>bbq_ckn</td>\n",
       "      <td>The Barbecue Chicken Pizza</td>\n",
       "      <td>Chicken</td>\n",
       "      <td>Barbecued Chicken, Red Peppers, Green Peppers,...</td>\n",
       "      <td>bbq_ckn_s</td>\n",
       "      <td>S</td>\n",
       "      <td>12.75</td>\n",
       "      <td>11</td>\n",
       "      <td>6</td>\n",
       "      <td>1</td>\n",
       "      <td>1/1/2015</td>\n",
       "      <td>12:29:36</td>\n",
       "    </tr>\n",
       "    <tr>\n",
       "      <th>1</th>\n",
       "      <td>bbq_ckn</td>\n",
       "      <td>The Barbecue Chicken Pizza</td>\n",
       "      <td>Chicken</td>\n",
       "      <td>Barbecued Chicken, Red Peppers, Green Peppers,...</td>\n",
       "      <td>bbq_ckn_s</td>\n",
       "      <td>S</td>\n",
       "      <td>12.75</td>\n",
       "      <td>239</td>\n",
       "      <td>102</td>\n",
       "      <td>1</td>\n",
       "      <td>1/2/2015</td>\n",
       "      <td>17:54:04</td>\n",
       "    </tr>\n",
       "    <tr>\n",
       "      <th>2</th>\n",
       "      <td>bbq_ckn</td>\n",
       "      <td>The Barbecue Chicken Pizza</td>\n",
       "      <td>Chicken</td>\n",
       "      <td>Barbecued Chicken, Red Peppers, Green Peppers,...</td>\n",
       "      <td>bbq_ckn_s</td>\n",
       "      <td>S</td>\n",
       "      <td>12.75</td>\n",
       "      <td>294</td>\n",
       "      <td>124</td>\n",
       "      <td>1</td>\n",
       "      <td>1/2/2015</td>\n",
       "      <td>20:12:34</td>\n",
       "    </tr>\n",
       "    <tr>\n",
       "      <th>3</th>\n",
       "      <td>bbq_ckn</td>\n",
       "      <td>The Barbecue Chicken Pizza</td>\n",
       "      <td>Chicken</td>\n",
       "      <td>Barbecued Chicken, Red Peppers, Green Peppers,...</td>\n",
       "      <td>bbq_ckn_s</td>\n",
       "      <td>S</td>\n",
       "      <td>12.75</td>\n",
       "      <td>458</td>\n",
       "      <td>194</td>\n",
       "      <td>1</td>\n",
       "      <td>1/3/2015</td>\n",
       "      <td>21:21:24</td>\n",
       "    </tr>\n",
       "    <tr>\n",
       "      <th>4</th>\n",
       "      <td>bbq_ckn</td>\n",
       "      <td>The Barbecue Chicken Pizza</td>\n",
       "      <td>Chicken</td>\n",
       "      <td>Barbecued Chicken, Red Peppers, Green Peppers,...</td>\n",
       "      <td>bbq_ckn_s</td>\n",
       "      <td>S</td>\n",
       "      <td>12.75</td>\n",
       "      <td>489</td>\n",
       "      <td>208</td>\n",
       "      <td>1</td>\n",
       "      <td>1/4/2015</td>\n",
       "      <td>12:12:05</td>\n",
       "    </tr>\n",
       "  </tbody>\n",
       "</table>\n",
       "</div>"
      ],
      "text/plain": [
       "  pizza_type_id                        name category  \\\n",
       "0       bbq_ckn  The Barbecue Chicken Pizza  Chicken   \n",
       "1       bbq_ckn  The Barbecue Chicken Pizza  Chicken   \n",
       "2       bbq_ckn  The Barbecue Chicken Pizza  Chicken   \n",
       "3       bbq_ckn  The Barbecue Chicken Pizza  Chicken   \n",
       "4       bbq_ckn  The Barbecue Chicken Pizza  Chicken   \n",
       "\n",
       "                                         ingredients   pizza_id size  price  \\\n",
       "0  Barbecued Chicken, Red Peppers, Green Peppers,...  bbq_ckn_s    S  12.75   \n",
       "1  Barbecued Chicken, Red Peppers, Green Peppers,...  bbq_ckn_s    S  12.75   \n",
       "2  Barbecued Chicken, Red Peppers, Green Peppers,...  bbq_ckn_s    S  12.75   \n",
       "3  Barbecued Chicken, Red Peppers, Green Peppers,...  bbq_ckn_s    S  12.75   \n",
       "4  Barbecued Chicken, Red Peppers, Green Peppers,...  bbq_ckn_s    S  12.75   \n",
       "\n",
       "   order_details_id  order_id  quantity      date      time  \n",
       "0                11         6         1  1/1/2015  12:29:36  \n",
       "1               239       102         1  1/2/2015  17:54:04  \n",
       "2               294       124         1  1/2/2015  20:12:34  \n",
       "3               458       194         1  1/3/2015  21:21:24  \n",
       "4               489       208         1  1/4/2015  12:12:05  "
      ]
     },
     "execution_count": 118,
     "metadata": {},
     "output_type": "execute_result"
    }
   ],
   "source": [
    "df_merge = pizza_types.merge(pizzas, on= 'pizza_type_id').merge(order_details, on = 'pizza_id').merge(orders, on = 'order_id')\n",
    "df_merge.head()"
   ]
  },
  {
   "cell_type": "code",
   "execution_count": 119,
   "id": "82f8dce6-5fa4-4e50-99e1-5d4f91359e85",
   "metadata": {},
   "outputs": [
    {
     "name": "stdout",
     "output_type": "stream",
     "text": [
      "<class 'pandas.core.frame.DataFrame'>\n",
      "RangeIndex: 48620 entries, 0 to 48619\n",
      "Data columns (total 12 columns):\n",
      " #   Column            Non-Null Count  Dtype  \n",
      "---  ------            --------------  -----  \n",
      " 0   pizza_type_id     48620 non-null  object \n",
      " 1   name              48620 non-null  object \n",
      " 2   category          48620 non-null  object \n",
      " 3   ingredients       48620 non-null  object \n",
      " 4   pizza_id          48620 non-null  object \n",
      " 5   size              48620 non-null  object \n",
      " 6   price             48620 non-null  float64\n",
      " 7   order_details_id  48620 non-null  int64  \n",
      " 8   order_id          48620 non-null  int64  \n",
      " 9   quantity          48620 non-null  int64  \n",
      " 10  date              48620 non-null  object \n",
      " 11  time              48620 non-null  object \n",
      "dtypes: float64(1), int64(3), object(8)\n",
      "memory usage: 4.5+ MB\n"
     ]
    }
   ],
   "source": [
    "df_merge.info()"
   ]
  },
  {
   "cell_type": "markdown",
   "id": "c436064c-d153-4626-888e-3e039c7a5ba0",
   "metadata": {},
   "source": [
    "## 1) What is the total revenue/sales?"
   ]
  },
  {
   "cell_type": "code",
   "execution_count": 122,
   "id": "5257b198-82f8-4bbf-b92c-d5a603e5e54d",
   "metadata": {},
   "outputs": [
    {
     "name": "stdout",
     "output_type": "stream",
     "text": [
      "Total Revenue is 817860.05\n"
     ]
    }
   ],
   "source": [
    "df_merge['Revenue'] = df_merge['quantity'] * df_merge['price']\n",
    "revenue = df_merge['Revenue'].sum()\n",
    "\n",
    "# print the reveune value \n",
    "print(f\"Total Revenue is {revenue}\")"
   ]
  },
  {
   "cell_type": "markdown",
   "id": "35af95b0-8892-496f-9018-92c533921556",
   "metadata": {},
   "source": [
    "## 2) Find the total quantity sold."
   ]
  },
  {
   "cell_type": "code",
   "execution_count": 123,
   "id": "84e6efc4-a984-4b0a-9981-762ee20a84ee",
   "metadata": {},
   "outputs": [
    {
     "name": "stdout",
     "output_type": "stream",
     "text": [
      "Total Quantity is 49574\n"
     ]
    }
   ],
   "source": [
    "# Total  quantity sold is the sum of the quantity column\n",
    "total_qnt = df_merge[\"quantity\"].sum()\n",
    "\n",
    "# print the total quantity\n",
    "print(f\"Total Quantity is {total_qnt}\")"
   ]
  },
  {
   "cell_type": "markdown",
   "id": "3907ed20-9897-4bc1-8530-6f4492dad6f7",
   "metadata": {},
   "source": [
    "## 3) Find the total orders."
   ]
  },
  {
   "cell_type": "code",
   "execution_count": 124,
   "id": "eeb08f52-8e43-455d-bf10-126fdfc9c8c8",
   "metadata": {},
   "outputs": [
    {
     "name": "stdout",
     "output_type": "stream",
     "text": [
      "48620 ordes where made\n"
     ]
    }
   ],
   "source": [
    "# Total order is obtained form the sum of the order_id column\n",
    "total_order = df_merge[\"order_id\"].count()\n",
    "\n",
    "# print the number of orders made\n",
    "print(f\"{total_order} ordes where made\")"
   ]
  },
  {
   "cell_type": "markdown",
   "id": "89fd78e5-3152-4ead-9b3b-04caf0aa80f7",
   "metadata": {},
   "source": [
    "## 4) How many pizza types do they sell?"
   ]
  },
  {
   "cell_type": "code",
   "execution_count": 125,
   "id": "8b119a70-b16a-417c-a562-75eb5976efb1",
   "metadata": {},
   "outputs": [
    {
     "data": {
      "text/plain": [
       "array(['Chicken', 'Classic', 'Supreme', 'Veggie'], dtype=object)"
      ]
     },
     "execution_count": 125,
     "metadata": {},
     "output_type": "execute_result"
    }
   ],
   "source": [
    "# Pizza types is the category of pizza sold\n",
    "df_merge['category'].unique()"
   ]
  },
  {
   "cell_type": "code",
   "execution_count": 127,
   "id": "7efc3c0a-a13b-4e84-bc36-ab0f0b0ae024",
   "metadata": {},
   "outputs": [
    {
     "name": "stdout",
     "output_type": "stream",
     "text": [
      "They sell 4 types of pizza\n"
     ]
    }
   ],
   "source": [
    "# number of the types of pizza sold \n",
    "pizza_type = len(df_merge['category'].unique())\n",
    "# print out the value \n",
    "print(f\"They sell {pizza_type} types of pizza\")"
   ]
  },
  {
   "cell_type": "code",
   "execution_count": 145,
   "id": "45cbec64-f994-48cf-b2df-89f8aced7470",
   "metadata": {},
   "outputs": [
    {
     "data": {
      "text/html": [
       "<div>\n",
       "<style scoped>\n",
       "    .dataframe tbody tr th:only-of-type {\n",
       "        vertical-align: middle;\n",
       "    }\n",
       "\n",
       "    .dataframe tbody tr th {\n",
       "        vertical-align: top;\n",
       "    }\n",
       "\n",
       "    .dataframe thead th {\n",
       "        text-align: right;\n",
       "    }\n",
       "</style>\n",
       "<table border=\"1\" class=\"dataframe\">\n",
       "  <thead>\n",
       "    <tr style=\"text-align: right;\">\n",
       "      <th></th>\n",
       "      <th>category</th>\n",
       "      <th>count</th>\n",
       "    </tr>\n",
       "  </thead>\n",
       "  <tbody>\n",
       "    <tr>\n",
       "      <th>0</th>\n",
       "      <td>Classic</td>\n",
       "      <td>14579</td>\n",
       "    </tr>\n",
       "    <tr>\n",
       "      <th>1</th>\n",
       "      <td>Supreme</td>\n",
       "      <td>11777</td>\n",
       "    </tr>\n",
       "    <tr>\n",
       "      <th>2</th>\n",
       "      <td>Veggie</td>\n",
       "      <td>11449</td>\n",
       "    </tr>\n",
       "    <tr>\n",
       "      <th>3</th>\n",
       "      <td>Chicken</td>\n",
       "      <td>10815</td>\n",
       "    </tr>\n",
       "  </tbody>\n",
       "</table>\n",
       "</div>"
      ],
      "text/plain": [
       "  category  count\n",
       "0  Classic  14579\n",
       "1  Supreme  11777\n",
       "2   Veggie  11449\n",
       "3  Chicken  10815"
      ]
     },
     "execution_count": 145,
     "metadata": {},
     "output_type": "execute_result"
    }
   ],
   "source": [
    "# counts of each pizza types\n",
    "category_count = df_merge['category'].value_counts().reset_index()\n",
    "category_count"
   ]
  },
  {
   "cell_type": "code",
   "execution_count": 147,
   "id": "c6d413a9-9560-4d1c-8a42-da1809bd8a46",
   "metadata": {},
   "outputs": [
    {
     "data": {
      "image/png": "[encoded data removed]",
      "text/plain": [
       "<Figure size 640x480 with 1 Axes>"
      ]
     },
     "metadata": {},
     "output_type": "display_data"
    }
   ],
   "source": [
    "# show this in a plot\n",
    "sns.barplot(x=\"category\", y = 'count', data=category_count)\n",
    "plt.title(\"Count_of _catagory\")\n",
    "plt.show()"
   ]
  },
  {
   "cell_type": "markdown",
   "id": "e51615a3-67c6-4a4b-96dd-1d597ffbfa7c",
   "metadata": {},
   "source": [
    "## 5) Find the average price of the pizzas"
   ]
  },
  {
   "cell_type": "code",
   "execution_count": 129,
   "id": "96a363b2-48c7-4598-b240-11efac1a226e",
   "metadata": {},
   "outputs": [
    {
     "data": {
      "text/plain": [
       "16.49"
      ]
     },
     "execution_count": 129,
     "metadata": {},
     "output_type": "execute_result"
    }
   ],
   "source": [
    "df_merge['price'].mean().round(2)"
   ]
  },
  {
   "cell_type": "markdown",
   "id": "81925fdf-67dc-4bfc-b922-4bf30d792567",
   "metadata": {},
   "source": [
    "## 6) What are the peak hours of sales?"
   ]
  },
  {
   "cell_type": "code",
   "execution_count": 131,
   "id": "b357ac45-beb4-420d-8743-6c58f040a649",
   "metadata": {},
   "outputs": [
    {
     "name": "stdout",
     "output_type": "stream",
     "text": [
      "The Peak hour of Sales occurs at 12noon\n"
     ]
    }
   ],
   "source": [
    "# cponvert to datetime column\n",
    "df_merge['date'] = pd.to_datetime(df_merge['date'])\n",
    "df_merge['time'] = pd.to_datetime(df_merge['time'])\n",
    "\n",
    "# get the hours in of the data form the data.\n",
    "df_merge['hours'] = df_merge['time'].dt.hour\n",
    "df_merge['hours']. reset_index()\n",
    "\n",
    "# get sales by hours \n",
    "peak_sales_hour = df_merge['hours'].value_counts().sort_values(ascending=False).reset_index()\n",
    "peak_sales_hour = peak_sales_hour.iloc[0,0]\n",
    "\n",
    "# print the time highes sales occur\n",
    "print(f'The Peak hour of Sales occurs at {peak_sales_hour}noon')"
   ]
  },
  {
   "cell_type": "markdown",
   "id": "acee158f-a473-4943-8267-3daae09f6f28",
   "metadata": {},
   "source": [
    "## 7) Find the total sales made on each day of the week. Which day of the week is when sales are made the most?"
   ]
  },
  {
   "cell_type": "code",
   "execution_count": 152,
   "id": "c4ef0397-4083-4537-bd0d-e42783ca1020",
   "metadata": {
    "scrolled": true
   },
   "outputs": [
    {
     "data": {
      "text/html": [
       "<div>\n",
       "<style scoped>\n",
       "    .dataframe tbody tr th:only-of-type {\n",
       "        vertical-align: middle;\n",
       "    }\n",
       "\n",
       "    .dataframe tbody tr th {\n",
       "        vertical-align: top;\n",
       "    }\n",
       "\n",
       "    .dataframe thead th {\n",
       "        text-align: right;\n",
       "    }\n",
       "</style>\n",
       "<table border=\"1\" class=\"dataframe\">\n",
       "  <thead>\n",
       "    <tr style=\"text-align: right;\">\n",
       "      <th></th>\n",
       "      <th>day</th>\n",
       "      <th>count</th>\n",
       "    </tr>\n",
       "  </thead>\n",
       "  <tbody>\n",
       "    <tr>\n",
       "      <th>0</th>\n",
       "      <td>Friday</td>\n",
       "      <td>8106</td>\n",
       "    </tr>\n",
       "    <tr>\n",
       "      <th>1</th>\n",
       "      <td>Saturday</td>\n",
       "      <td>7355</td>\n",
       "    </tr>\n",
       "    <tr>\n",
       "      <th>2</th>\n",
       "      <td>Thursday</td>\n",
       "      <td>7323</td>\n",
       "    </tr>\n",
       "    <tr>\n",
       "      <th>3</th>\n",
       "      <td>Wednesday</td>\n",
       "      <td>6797</td>\n",
       "    </tr>\n",
       "    <tr>\n",
       "      <th>4</th>\n",
       "      <td>Tuesday</td>\n",
       "      <td>6753</td>\n",
       "    </tr>\n",
       "    <tr>\n",
       "      <th>5</th>\n",
       "      <td>Monday</td>\n",
       "      <td>6369</td>\n",
       "    </tr>\n",
       "    <tr>\n",
       "      <th>6</th>\n",
       "      <td>Sunday</td>\n",
       "      <td>5917</td>\n",
       "    </tr>\n",
       "  </tbody>\n",
       "</table>\n",
       "</div>"
      ],
      "text/plain": [
       "         day  count\n",
       "0     Friday   8106\n",
       "1   Saturday   7355\n",
       "2   Thursday   7323\n",
       "3  Wednesday   6797\n",
       "4    Tuesday   6753\n",
       "5     Monday   6369\n",
       "6     Sunday   5917"
      ]
     },
     "execution_count": 152,
     "metadata": {},
     "output_type": "execute_result"
    }
   ],
   "source": [
    "# convert data column in orders to datetime column\n",
    "df_merge['day'] =df_merge['date'].dt.day_name()\n",
    "\n",
    "#get sales by day\n",
    "daily_sales = df_merge['day'].value_counts().reset_index()\n",
    "daily_sales"
   ]
  },
  {
   "cell_type": "code",
   "execution_count": 153,
   "id": "71f3967f-ced3-42ef-b964-b468519b9402",
   "metadata": {},
   "outputs": [
    {
     "data": {
      "image/png": "[encoded data removed]",
      "text/plain": [
       "<Figure size 640x480 with 1 Axes>"
      ]
     },
     "metadata": {},
     "output_type": "display_data"
    }
   ],
   "source": [
    "# show daily sales trend plot\n",
    "sns.lineplot(x='day', y = 'count', data = daily_sales)\n",
    "plt.title(\"daily sales trend\")\n",
    "plt.show()"
   ]
  },
  {
   "cell_type": "code",
   "execution_count": 134,
   "id": "353a0b6d-ceb3-4fde-a263-2125c84b2a85",
   "metadata": {},
   "outputs": [
    {
     "name": "stdout",
     "output_type": "stream",
     "text": [
      "The day of the week with highest sales is sales Friday\n"
     ]
    }
   ],
   "source": [
    "# get the highest row which is the first using subseting\n",
    "Peak_day_sales = daily_sales.iloc[0,0]\n",
    "Peak_day_sales\n",
    "\n",
    "# print the result\n",
    "print(f'The day of the week with highest sales is sales {Peak_day_sales}')"
   ]
  },
  {
   "cell_type": "markdown",
   "id": "319ae053-faf2-49e3-9db2-9120407d2039",
   "metadata": {},
   "source": [
    "## 8) Find the top 5 bestselling pizzas"
   ]
  },
  {
   "cell_type": "code",
   "execution_count": 190,
   "id": "ffce3aa8-1ae8-454e-8153-312c5b44cbb6",
   "metadata": {},
   "outputs": [
    {
     "data": {
      "text/html": [
       "<div>\n",
       "<style scoped>\n",
       "    .dataframe tbody tr th:only-of-type {\n",
       "        vertical-align: middle;\n",
       "    }\n",
       "\n",
       "    .dataframe tbody tr th {\n",
       "        vertical-align: top;\n",
       "    }\n",
       "\n",
       "    .dataframe thead th {\n",
       "        text-align: right;\n",
       "    }\n",
       "</style>\n",
       "<table border=\"1\" class=\"dataframe\">\n",
       "  <thead>\n",
       "    <tr style=\"text-align: right;\">\n",
       "      <th></th>\n",
       "      <th>name</th>\n",
       "      <th>count</th>\n",
       "    </tr>\n",
       "  </thead>\n",
       "  <tbody>\n",
       "    <tr>\n",
       "      <th>0</th>\n",
       "      <td>The Classic Deluxe Pizza</td>\n",
       "      <td>2416</td>\n",
       "    </tr>\n",
       "    <tr>\n",
       "      <th>1</th>\n",
       "      <td>The Barbecue Chicken Pizza</td>\n",
       "      <td>2372</td>\n",
       "    </tr>\n",
       "    <tr>\n",
       "      <th>2</th>\n",
       "      <td>The Hawaiian Pizza</td>\n",
       "      <td>2370</td>\n",
       "    </tr>\n",
       "    <tr>\n",
       "      <th>3</th>\n",
       "      <td>The Pepperoni Pizza</td>\n",
       "      <td>2369</td>\n",
       "    </tr>\n",
       "    <tr>\n",
       "      <th>4</th>\n",
       "      <td>The Thai Chicken Pizza</td>\n",
       "      <td>2315</td>\n",
       "    </tr>\n",
       "  </tbody>\n",
       "</table>\n",
       "</div>"
      ],
      "text/plain": [
       "                         name  count\n",
       "0    The Classic Deluxe Pizza   2416\n",
       "1  The Barbecue Chicken Pizza   2372\n",
       "2          The Hawaiian Pizza   2370\n",
       "3         The Pepperoni Pizza   2369\n",
       "4      The Thai Chicken Pizza   2315"
      ]
     },
     "execution_count": 190,
     "metadata": {},
     "output_type": "execute_result"
    }
   ],
   "source": [
    "# counts of pizzas by name by name\n",
    "top_5_pizzas = df_merge['name'].value_counts().reset_index().iloc[0:5]\n",
    "top_5_pizzas"
   ]
  },
  {
   "cell_type": "code",
   "execution_count": 162,
   "id": "41712cf7-ea45-497f-96b4-ebf0199382d3",
   "metadata": {},
   "outputs": [
    {
     "data": {
      "image/png": "[encoded data removed]",
      "text/plain": [
       "<Figure size 640x480 with 1 Axes>"
      ]
     },
     "metadata": {},
     "output_type": "display_data"
    }
   ],
   "source": [
    "# show plot for top 5 best sellings pizzas\n",
    "sns.barplot(x = \"name\", y = \"count\", data = top_5_pizzas)\n",
    "plt.title('Best 5 Selling Pizzas')\n",
    "plt.xticks(rotation=45) \n",
    "plt.show()"
   ]
  },
  {
   "cell_type": "markdown",
   "id": "974e6335-3ad9-43b9-803e-3b4379b73250",
   "metadata": {},
   "source": [
    "## 9) Find the sales made in each month. Any trend noticeable?"
   ]
  },
  {
   "cell_type": "code",
   "execution_count": 165,
   "id": "5f24f4b7-e776-44ee-a1f1-798fcf1fff75",
   "metadata": {},
   "outputs": [
    {
     "data": {
      "text/html": [
       "<div>\n",
       "<style scoped>\n",
       "    .dataframe tbody tr th:only-of-type {\n",
       "        vertical-align: middle;\n",
       "    }\n",
       "\n",
       "    .dataframe tbody tr th {\n",
       "        vertical-align: top;\n",
       "    }\n",
       "\n",
       "    .dataframe thead th {\n",
       "        text-align: right;\n",
       "    }\n",
       "</style>\n",
       "<table border=\"1\" class=\"dataframe\">\n",
       "  <thead>\n",
       "    <tr style=\"text-align: right;\">\n",
       "      <th></th>\n",
       "      <th>month</th>\n",
       "      <th>count</th>\n",
       "    </tr>\n",
       "  </thead>\n",
       "  <tbody>\n",
       "    <tr>\n",
       "      <th>0</th>\n",
       "      <td>1</td>\n",
       "      <td>4156</td>\n",
       "    </tr>\n",
       "    <tr>\n",
       "      <th>1</th>\n",
       "      <td>2</td>\n",
       "      <td>3892</td>\n",
       "    </tr>\n",
       "    <tr>\n",
       "      <th>2</th>\n",
       "      <td>3</td>\n",
       "      <td>4186</td>\n",
       "    </tr>\n",
       "    <tr>\n",
       "      <th>3</th>\n",
       "      <td>4</td>\n",
       "      <td>4067</td>\n",
       "    </tr>\n",
       "    <tr>\n",
       "      <th>4</th>\n",
       "      <td>5</td>\n",
       "      <td>4239</td>\n",
       "    </tr>\n",
       "    <tr>\n",
       "      <th>5</th>\n",
       "      <td>6</td>\n",
       "      <td>4025</td>\n",
       "    </tr>\n",
       "    <tr>\n",
       "      <th>6</th>\n",
       "      <td>7</td>\n",
       "      <td>4301</td>\n",
       "    </tr>\n",
       "    <tr>\n",
       "      <th>7</th>\n",
       "      <td>8</td>\n",
       "      <td>4094</td>\n",
       "    </tr>\n",
       "    <tr>\n",
       "      <th>8</th>\n",
       "      <td>9</td>\n",
       "      <td>3819</td>\n",
       "    </tr>\n",
       "    <tr>\n",
       "      <th>9</th>\n",
       "      <td>10</td>\n",
       "      <td>3797</td>\n",
       "    </tr>\n",
       "    <tr>\n",
       "      <th>10</th>\n",
       "      <td>11</td>\n",
       "      <td>4185</td>\n",
       "    </tr>\n",
       "    <tr>\n",
       "      <th>11</th>\n",
       "      <td>12</td>\n",
       "      <td>3859</td>\n",
       "    </tr>\n",
       "  </tbody>\n",
       "</table>\n",
       "</div>"
      ],
      "text/plain": [
       "    month  count\n",
       "0       1   4156\n",
       "1       2   3892\n",
       "2       3   4186\n",
       "3       4   4067\n",
       "4       5   4239\n",
       "5       6   4025\n",
       "6       7   4301\n",
       "7       8   4094\n",
       "8       9   3819\n",
       "9      10   3797\n",
       "10     11   4185\n",
       "11     12   3859"
      ]
     },
     "execution_count": 165,
     "metadata": {},
     "output_type": "execute_result"
    }
   ],
   "source": [
    "df_merge['date'] = pd.to_datetime(df_merge['date'])\n",
    "df_merge['month'] = df_merge['date'].dt.month\n",
    "monthly_sales = df_merge['month'].value_counts().sort_index().reset_index()\n",
    "monthly_sales"
   ]
  },
  {
   "cell_type": "code",
   "execution_count": 168,
   "id": "75b55b85-0c85-4bfe-8d2b-e90247d35e3a",
   "metadata": {},
   "outputs": [
    {
     "data": {
      "image/png": "[encoded data removed]",
      "text/plain": [
       "<Figure size 640x480 with 1 Axes>"
      ]
     },
     "metadata": {},
     "output_type": "display_data"
    }
   ],
   "source": [
    "plt.scatter(x='month', y = 'count', data = monthly_sales)\n",
    "plt.title(\"monthly sales\")\n",
    "plt.xlabel('month')\n",
    "plt.ylabel('count of sales')\n",
    "plt.show()"
   ]
  },
  {
   "cell_type": "markdown",
   "id": "3db1574f-4975-4d35-bf45-2be118c08c31",
   "metadata": {},
   "source": [
    "**There is no noticeable trend in sales monthly, but we couls see that thre is decrease of sales during the end of the year apart from a sharp increase in the 11th month**"
   ]
  },
  {
   "cell_type": "code",
   "execution_count": 172,
   "id": "ccacbdd0-7618-4fa0-8fa5-6946b5192fbc",
   "metadata": {},
   "outputs": [
    {
     "data": {
      "image/png": "[encoded data removed]",
      "text/plain": [
       "<Figure size 640x480 with 1 Axes>"
      ]
     },
     "metadata": {},
     "output_type": "display_data"
    }
   ],
   "source": [
    "sns.lineplot(x='month', y = 'count', data = monthly_sales)\n",
    "plt.title(\"monthly sales\")\n",
    "plt.xlabel('month')\n",
    "plt.ylabel('count of sales')\n",
    "plt.show()"
   ]
  },
  {
   "cell_type": "markdown",
   "id": "9fd99f7a-592e-487a-a53f-b6121080cdab",
   "metadata": {},
   "source": [
    "## 10) Are there pizza types that are not doing well on the menu?"
   ]
  },
  {
   "cell_type": "code",
   "execution_count": 174,
   "id": "ed36ae2d-1f65-48d3-9809-cf5efc64e38c",
   "metadata": {},
   "outputs": [
    {
     "data": {
      "text/html": [
       "<div>\n",
       "<style scoped>\n",
       "    .dataframe tbody tr th:only-of-type {\n",
       "        vertical-align: middle;\n",
       "    }\n",
       "\n",
       "    .dataframe tbody tr th {\n",
       "        vertical-align: top;\n",
       "    }\n",
       "\n",
       "    .dataframe thead th {\n",
       "        text-align: right;\n",
       "    }\n",
       "</style>\n",
       "<table border=\"1\" class=\"dataframe\">\n",
       "  <thead>\n",
       "    <tr style=\"text-align: right;\">\n",
       "      <th></th>\n",
       "      <th>pizza_type_id</th>\n",
       "      <th>name</th>\n",
       "      <th>category</th>\n",
       "      <th>ingredients</th>\n",
       "      <th>pizza_id</th>\n",
       "      <th>size</th>\n",
       "      <th>price</th>\n",
       "      <th>order_details_id</th>\n",
       "      <th>order_id</th>\n",
       "      <th>quantity</th>\n",
       "      <th>date</th>\n",
       "      <th>time</th>\n",
       "      <th>Revenue</th>\n",
       "      <th>hours</th>\n",
       "      <th>day</th>\n",
       "      <th>month</th>\n",
       "    </tr>\n",
       "  </thead>\n",
       "  <tbody>\n",
       "    <tr>\n",
       "      <th>0</th>\n",
       "      <td>bbq_ckn</td>\n",
       "      <td>The Barbecue Chicken Pizza</td>\n",
       "      <td>Chicken</td>\n",
       "      <td>Barbecued Chicken, Red Peppers, Green Peppers,...</td>\n",
       "      <td>bbq_ckn_s</td>\n",
       "      <td>S</td>\n",
       "      <td>12.75</td>\n",
       "      <td>11</td>\n",
       "      <td>6</td>\n",
       "      <td>1</td>\n",
       "      <td>2015-01-01</td>\n",
       "      <td>2025-05-11 12:29:36</td>\n",
       "      <td>12.75</td>\n",
       "      <td>12</td>\n",
       "      <td>Thursday</td>\n",
       "      <td>1</td>\n",
       "    </tr>\n",
       "    <tr>\n",
       "      <th>1</th>\n",
       "      <td>bbq_ckn</td>\n",
       "      <td>The Barbecue Chicken Pizza</td>\n",
       "      <td>Chicken</td>\n",
       "      <td>Barbecued Chicken, Red Peppers, Green Peppers,...</td>\n",
       "      <td>bbq_ckn_s</td>\n",
       "      <td>S</td>\n",
       "      <td>12.75</td>\n",
       "      <td>239</td>\n",
       "      <td>102</td>\n",
       "      <td>1</td>\n",
       "      <td>2015-01-02</td>\n",
       "      <td>2025-05-11 17:54:04</td>\n",
       "      <td>12.75</td>\n",
       "      <td>17</td>\n",
       "      <td>Friday</td>\n",
       "      <td>1</td>\n",
       "    </tr>\n",
       "    <tr>\n",
       "      <th>2</th>\n",
       "      <td>bbq_ckn</td>\n",
       "      <td>The Barbecue Chicken Pizza</td>\n",
       "      <td>Chicken</td>\n",
       "      <td>Barbecued Chicken, Red Peppers, Green Peppers,...</td>\n",
       "      <td>bbq_ckn_s</td>\n",
       "      <td>S</td>\n",
       "      <td>12.75</td>\n",
       "      <td>294</td>\n",
       "      <td>124</td>\n",
       "      <td>1</td>\n",
       "      <td>2015-01-02</td>\n",
       "      <td>2025-05-11 20:12:34</td>\n",
       "      <td>12.75</td>\n",
       "      <td>20</td>\n",
       "      <td>Friday</td>\n",
       "      <td>1</td>\n",
       "    </tr>\n",
       "    <tr>\n",
       "      <th>3</th>\n",
       "      <td>bbq_ckn</td>\n",
       "      <td>The Barbecue Chicken Pizza</td>\n",
       "      <td>Chicken</td>\n",
       "      <td>Barbecued Chicken, Red Peppers, Green Peppers,...</td>\n",
       "      <td>bbq_ckn_s</td>\n",
       "      <td>S</td>\n",
       "      <td>12.75</td>\n",
       "      <td>458</td>\n",
       "      <td>194</td>\n",
       "      <td>1</td>\n",
       "      <td>2015-01-03</td>\n",
       "      <td>2025-05-11 21:21:24</td>\n",
       "      <td>12.75</td>\n",
       "      <td>21</td>\n",
       "      <td>Saturday</td>\n",
       "      <td>1</td>\n",
       "    </tr>\n",
       "    <tr>\n",
       "      <th>4</th>\n",
       "      <td>bbq_ckn</td>\n",
       "      <td>The Barbecue Chicken Pizza</td>\n",
       "      <td>Chicken</td>\n",
       "      <td>Barbecued Chicken, Red Peppers, Green Peppers,...</td>\n",
       "      <td>bbq_ckn_s</td>\n",
       "      <td>S</td>\n",
       "      <td>12.75</td>\n",
       "      <td>489</td>\n",
       "      <td>208</td>\n",
       "      <td>1</td>\n",
       "      <td>2015-01-04</td>\n",
       "      <td>2025-05-11 12:12:05</td>\n",
       "      <td>12.75</td>\n",
       "      <td>12</td>\n",
       "      <td>Sunday</td>\n",
       "      <td>1</td>\n",
       "    </tr>\n",
       "  </tbody>\n",
       "</table>\n",
       "</div>"
      ],
      "text/plain": [
       "  pizza_type_id                        name category  \\\n",
       "0       bbq_ckn  The Barbecue Chicken Pizza  Chicken   \n",
       "1       bbq_ckn  The Barbecue Chicken Pizza  Chicken   \n",
       "2       bbq_ckn  The Barbecue Chicken Pizza  Chicken   \n",
       "3       bbq_ckn  The Barbecue Chicken Pizza  Chicken   \n",
       "4       bbq_ckn  The Barbecue Chicken Pizza  Chicken   \n",
       "\n",
       "                                         ingredients   pizza_id size  price  \\\n",
       "0  Barbecued Chicken, Red Peppers, Green Peppers,...  bbq_ckn_s    S  12.75   \n",
       "1  Barbecued Chicken, Red Peppers, Green Peppers,...  bbq_ckn_s    S  12.75   \n",
       "2  Barbecued Chicken, Red Peppers, Green Peppers,...  bbq_ckn_s    S  12.75   \n",
       "3  Barbecued Chicken, Red Peppers, Green Peppers,...  bbq_ckn_s    S  12.75   \n",
       "4  Barbecued Chicken, Red Peppers, Green Peppers,...  bbq_ckn_s    S  12.75   \n",
       "\n",
       "   order_details_id  order_id  quantity       date                time  \\\n",
       "0                11         6         1 2015-01-01 2025-05-11 12:29:36   \n",
       "1               239       102         1 2015-01-02 2025-05-11 17:54:04   \n",
       "2               294       124         1 2015-01-02 2025-05-11 20:12:34   \n",
       "3               458       194         1 2015-01-03 2025-05-11 21:21:24   \n",
       "4               489       208         1 2015-01-04 2025-05-11 12:12:05   \n",
       "\n",
       "   Revenue  hours       day  month  \n",
       "0    12.75     12  Thursday      1  \n",
       "1    12.75     17    Friday      1  \n",
       "2    12.75     20    Friday      1  \n",
       "3    12.75     21  Saturday      1  \n",
       "4    12.75     12    Sunday      1  "
      ]
     },
     "execution_count": 174,
     "metadata": {},
     "output_type": "execute_result"
    }
   ],
   "source": [
    "df_merge.head()"
   ]
  },
  {
   "cell_type": "code",
   "execution_count": 183,
   "id": "e3c1c8ae-c369-435e-99b3-58dbbe4c541a",
   "metadata": {},
   "outputs": [
    {
     "data": {
      "text/html": [
       "<div>\n",
       "<style scoped>\n",
       "    .dataframe tbody tr th:only-of-type {\n",
       "        vertical-align: middle;\n",
       "    }\n",
       "\n",
       "    .dataframe tbody tr th {\n",
       "        vertical-align: top;\n",
       "    }\n",
       "\n",
       "    .dataframe thead th {\n",
       "        text-align: right;\n",
       "    }\n",
       "</style>\n",
       "<table border=\"1\" class=\"dataframe\">\n",
       "  <thead>\n",
       "    <tr style=\"text-align: right;\">\n",
       "      <th></th>\n",
       "      <th>category</th>\n",
       "      <th>Revenue</th>\n",
       "    </tr>\n",
       "  </thead>\n",
       "  <tbody>\n",
       "    <tr>\n",
       "      <th>0</th>\n",
       "      <td>Chicken</td>\n",
       "      <td>195919.50</td>\n",
       "    </tr>\n",
       "    <tr>\n",
       "      <th>1</th>\n",
       "      <td>Classic</td>\n",
       "      <td>220053.10</td>\n",
       "    </tr>\n",
       "    <tr>\n",
       "      <th>2</th>\n",
       "      <td>Supreme</td>\n",
       "      <td>208197.00</td>\n",
       "    </tr>\n",
       "    <tr>\n",
       "      <th>3</th>\n",
       "      <td>Veggie</td>\n",
       "      <td>193690.45</td>\n",
       "    </tr>\n",
       "  </tbody>\n",
       "</table>\n",
       "</div>"
      ],
      "text/plain": [
       "  category    Revenue\n",
       "0  Chicken  195919.50\n",
       "1  Classic  220053.10\n",
       "2  Supreme  208197.00\n",
       "3   Veggie  193690.45"
      ]
     },
     "execution_count": 183,
     "metadata": {},
     "output_type": "execute_result"
    }
   ],
   "source": [
    "pizza_sales =df_merge.groupby('category')['Revenue'].sum().sort_index().reset_index()\n",
    "pizza_sales"
   ]
  },
  {
   "cell_type": "code",
   "execution_count": 188,
   "id": "c018d67e-cdbd-4bb3-b2d3-7c61682e6a89",
   "metadata": {},
   "outputs": [
    {
     "data": {
      "text/html": [
       "<div>\n",
       "<style scoped>\n",
       "    .dataframe tbody tr th:only-of-type {\n",
       "        vertical-align: middle;\n",
       "    }\n",
       "\n",
       "    .dataframe tbody tr th {\n",
       "        vertical-align: top;\n",
       "    }\n",
       "\n",
       "    .dataframe thead th {\n",
       "        text-align: right;\n",
       "    }\n",
       "</style>\n",
       "<table border=\"1\" class=\"dataframe\">\n",
       "  <thead>\n",
       "    <tr style=\"text-align: right;\">\n",
       "      <th></th>\n",
       "      <th>category</th>\n",
       "      <th>quantity</th>\n",
       "    </tr>\n",
       "  </thead>\n",
       "  <tbody>\n",
       "    <tr>\n",
       "      <th>0</th>\n",
       "      <td>Chicken</td>\n",
       "      <td>11050</td>\n",
       "    </tr>\n",
       "    <tr>\n",
       "      <th>1</th>\n",
       "      <td>Classic</td>\n",
       "      <td>14888</td>\n",
       "    </tr>\n",
       "    <tr>\n",
       "      <th>2</th>\n",
       "      <td>Supreme</td>\n",
       "      <td>11987</td>\n",
       "    </tr>\n",
       "    <tr>\n",
       "      <th>3</th>\n",
       "      <td>Veggie</td>\n",
       "      <td>11649</td>\n",
       "    </tr>\n",
       "  </tbody>\n",
       "</table>\n",
       "</div>"
      ],
      "text/plain": [
       "  category  quantity\n",
       "0  Chicken     11050\n",
       "1  Classic     14888\n",
       "2  Supreme     11987\n",
       "3   Veggie     11649"
      ]
     },
     "execution_count": 188,
     "metadata": {},
     "output_type": "execute_result"
    }
   ],
   "source": [
    "pizza_sold=df_merge.groupby('category')['quantity'].sum().sort_index().reset_index()\n",
    "pizza_sold"
   ]
  },
  {
   "cell_type": "code",
   "execution_count": 184,
   "id": "d183866a-15b1-4f25-9332-52c46bfa327a",
   "metadata": {},
   "outputs": [
    {
     "data": {
      "image/png": "[encoded data removed]",
      "text/plain": [
       "<Figure size 640x480 with 1 Axes>"
      ]
     },
     "metadata": {},
     "output_type": "display_data"
    }
   ],
   "source": [
    "# show in plot\n",
    "sns.barplot(x = 'category', y= 'Revenue', data = pizza_sales)\n",
    "plt.title( 'Revenue by category of Pizza')\n",
    "plt.xlabel('Category')\n",
    "plt.ylabel('Revenue')\n",
    "plt.show()"
   ]
  },
  {
   "cell_type": "markdown",
   "id": "f9c6e0d4-38db-4b16-b707-fe9583937de5",
   "metadata": {},
   "source": [
    "**Veggie types of pizzas is not doing well in terms of revenue and quantity sold**"
   ]
  },
  {
   "cell_type": "code",
   "execution_count": null,
   "id": "98019a53-9317-4e07-bcb0-68e2763894c7",
   "metadata": {},
   "outputs": [],
   "source": []
  }
 ],
 "metadata": {
  "kernelspec": {
   "display_name": "Python 3 (ipykernel)",
   "language": "python",
   "name": "python3"
  },
  "language_info": {
   "codemirror_mode": {
    "name": "ipython",
    "version": 3
   },
   "file_extension": ".py",
   "mimetype": "text/x-python",
   "name": "python",
   "nbconvert_exporter": "python",
   "pygments_lexer": "ipython3",
   "version": "3.12.7"
  }
 },
 "nbformat": 4,
 "nbformat_minor": 5
}
